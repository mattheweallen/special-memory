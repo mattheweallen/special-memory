{
 "cells": [
  {
   "cell_type": "markdown",
   "metadata": {},
   "source": [
    "---\n",
    "title: \"Presentation\"\n",
    "format:\n",
    "  revealjs: \n",
    "    theme: dark\n",
    "    menu:\n",
    "      side: right\n",
    "      width: wide\n",
    "    slide-number: true\n",
    "    show-slide-number: print\n",
    "    preview-links: auto\n",
    "    slide-tone: true\n",
    "    chalkboard: true\n",
    "---\n",
    "\n",
    "## NGram Model\n",
    "### Bigram Example\n",
    "$$\\Pr( dog | the ) = \\dfrac{C(the\\;dog)}{C(the)} $$\n",
    "\n",
    "### Trigram Example\n",
    "$$\\Pr( dog | the\\;small )$$\n",
    "\n",
    "## Markov Assumption\n",
    "\n",
    "- Markov models are the class of probabilistic models that assume we can predict the probability of some future unit without looking too far into the past. ^[[Chapter 3](https://web.stanford.edu/~jurafsky/slp3/3.pdf)]\n",
    "\n",
    "::: aside\n",
    "Speech and Language Processing. Daniel Jurafsky & James H. Martin. Copyright © 2023. All\n",
    "rights reserved. Draft of February 3, 2024.\n",
    ":::\n",
    "\n",
    "\n",
    "## Equation\n",
    "\n",
    "$$c = \\sqrt{a^2 + b^2}$$\n",
    "\n",
    "## Getting up\n",
    "\n",
    "- Turn off alarm\n",
    "- Get out of bed\n",
    "\n",
    "## Going to sleep\n",
    "\n",
    "- Get in bed\n",
    "- Count sheep"
   ]
  }
 ],
 "metadata": {
  "kernelspec": {
   "display_name": "base",
   "language": "python",
   "name": "python3"
  },
  "language_info": {
   "name": "python",
   "version": "3.10.12"
  }
 },
 "nbformat": 4,
 "nbformat_minor": 2
}
