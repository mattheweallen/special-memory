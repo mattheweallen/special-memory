{
 "cells": [
  {
   "cell_type": "markdown",
   "metadata": {},
   "source": [
    "---\n",
    "title: \"Presentation\"\n",
    "format:\n",
    "  revealjs: \n",
    "    theme: dark\n",
    "    menu:\n",
    "      side: right\n",
    "      width: wide\n",
    "    slide-number: true\n",
    "    show-slide-number: print\n",
    "    preview-links: auto\n",
    "    slide-tone: true\n",
    "    chalkboard: true\n",
    "---"
   ]
  },
  {
   "cell_type": "markdown",
   "metadata": {},
   "source": [
    "---\n",
    "title: \"Habits\"\n",
    "author: \"John Doe\"\n",
    "format: revealjs\n",
    "---\n",
    "\n",
    "## Getting up\n",
    "\n",
    "- Turn off alarm\n",
    "- Get out of bed\n",
    "\n",
    "## Going to sleep\n",
    "\n",
    "- Get in bed\n",
    "- Count sheep"
   ]
  }
 ],
 "metadata": {
  "kernelspec": {
   "display_name": "base",
   "language": "python",
   "name": "python3"
  },
  "language_info": {
   "name": "python",
   "version": "3.10.12"
  }
 },
 "nbformat": 4,
 "nbformat_minor": 2
}
